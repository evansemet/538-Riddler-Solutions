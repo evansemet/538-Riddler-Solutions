{
  "nbformat": 4,
  "nbformat_minor": 0,
  "metadata": {
    "colab": {
      "name": "2022_04_22_Can_You_Level_Up_Your_Armor.ipynb",
      "provenance": [],
      "authorship_tag": "ABX9TyMpFnXWwXoSvf97BbhQRafI",
      "include_colab_link": true
    },
    "kernelspec": {
      "name": "python3",
      "display_name": "Python 3"
    },
    "language_info": {
      "name": "python"
    }
  },
  "cells": [
    {
      "cell_type": "markdown",
      "metadata": {
        "id": "view-in-github",
        "colab_type": "text"
      },
      "source": [
        "<a href=\"https://colab.research.google.com/github/evansemet/538-Riddler-Solutions/blob/main/2022_04_22_Can_You_Level_Up_Your_Armor.ipynb\" target=\"_parent\"><img src=\"https://colab.research.google.com/assets/colab-badge.svg\" alt=\"Open In Colab\"/></a>"
      ]
    },
    {
      "cell_type": "markdown",
      "source": [
        "#Riddler Express\n",
        "The Flash challenges Usain Bolt to a 100-meter race. Bolt runs at an average speed of 10 meters per second. To make it interesting, the Flash decides he will pick a random speed between 5 meters per second and 16 meters per second, with each speed in between being equally likely. (Note that fractional and decimal speeds are included here, rather than just whole numbers.)\n",
        "\n",
        "On average, how often would you expect the Flash to win? What would be his average margin of victory?"
      ],
      "metadata": {
        "id": "MlkJSn1nbes0"
      }
    },
    {
      "cell_type": "code",
      "source": [
        "from scipy.integrate import quad\n",
        "\n",
        "def percent_wins():\n",
        "  return (16 - 10) / (16 - 5)\n",
        "\n",
        "# function we want to integrate\n",
        "def f(x):\n",
        "  return 100 / x\n",
        "# call quad to integrate f from 5 to 16\n",
        "res, err = quad(f, 5, 16)\n",
        "\n",
        "def average_win_time():\n",
        "  # divide the integral by the bounds\n",
        "  return 10 - res / 11\n",
        "\n",
        "print(f\"Chance that the Flash wins: {percent_wins()}\")\n",
        "print(f\"Average margin of victory: {average_win_time()} seconds\")"
      ],
      "metadata": {
        "colab": {
          "base_uri": "https://localhost:8080/"
        },
        "id": "P1QTwe9qbVYQ",
        "outputId": "6509c36e-bbad-4b0b-a8be-6723b281e4c5"
      },
      "execution_count": null,
      "outputs": [
        {
          "output_type": "stream",
          "name": "stdout",
          "text": [
            "Chance that the Flash wins: 0.5454545454545454\n",
            "Average margin of victory: -0.5740982709607341 seconds\n"
          ]
        }
      ]
    },
    {
      "cell_type": "markdown",
      "source": [
        "#Riddler Classic\n",
        "From Jenny Mitchell comes a matter of shoring up your defenses:\n",
        "\n",
        "In the hit online game World of Riddlecraft, players can level up their armor. Armor levels range from 0 to 5. Now, attempting to level up your armor requires a cerulean gem, which is destroyed in the process. If the attempt is successful, your armor’s level goes up by one; if not, it goes down by one.\n",
        "\n",
        "Fortunately, it’s impossible to fail when attempting to upgrade your armor from level 0 to level 1. However, the likelihood of success goes down the higher level the armor is before the upgrade. More specifically:\n",
        "\n",
        "Upgrading from level 0 to level 1 has a 100 percent chance of success.\n",
        "\n",
        "\n",
        "Upgrading from level 1 to level 2 has an 80 percent chance of success.\n",
        "\n",
        "\n",
        "Upgrading from level 2 to level 3 has a 60 percent chance of success.\n",
        "\n",
        "\n",
        "Upgrading from level 3 to level 4 has a 40 percent chance of success.\n",
        "\n",
        "\n",
        "Upgrading from level 4 to level 5 has a 20 percent chance of success.\n",
        "\n",
        "\n",
        "On average, how many cerulean gems can you expect to use up in order to upgrade your armor from level 0 to level 5?\n"
      ],
      "metadata": {
        "id": "CK2ATS15WWXL"
      }
    },
    {
      "cell_type": "code",
      "execution_count": 27,
      "metadata": {
        "colab": {
          "base_uri": "https://localhost:8080/"
        },
        "id": "rBcZ_LrJVrjH",
        "outputId": "0b3d8548-b141-4c90-8b80-d27c602c2a77"
      },
      "outputs": [
        {
          "output_type": "stream",
          "name": "stdout",
          "text": [
            "42.66666666666667\n"
          ]
        }
      ],
      "source": [
        "import numpy as np\n",
        "\n",
        "Q = np.array([[   0,   1,   0,   0,   0],\n",
        "              [ 0.2,   0, 0.8,   0,   0],\n",
        "              [   0, 0.4,   0, 0.6,   0],\n",
        "              [   0,   0, 0.6,   0, 0.4],\n",
        "              [   0,   0,   0, 0.8,   0]])\n",
        "\n",
        "M = np.linalg.inv(np.identity(5) - Q)\n",
        "print(np.sum(M[0]))"
      ]
    }
  ]
}