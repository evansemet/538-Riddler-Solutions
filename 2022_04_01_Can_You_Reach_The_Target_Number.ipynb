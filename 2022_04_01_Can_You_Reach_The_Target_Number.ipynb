{
  "nbformat": 4,
  "nbformat_minor": 0,
  "metadata": {
    "colab": {
      "name": "2022_04_01_Can_You_Reach_The_Target_Number.ipynb",
      "provenance": [],
      "authorship_tag": "ABX9TyM1mma1ANowiF0J2fkmvLRk",
      "include_colab_link": true
    },
    "kernelspec": {
      "name": "python3",
      "display_name": "Python 3"
    },
    "language_info": {
      "name": "python"
    }
  },
  "cells": [
    {
      "cell_type": "markdown",
      "metadata": {
        "id": "view-in-github",
        "colab_type": "text"
      },
      "source": [
        "<a href=\"https://colab.research.google.com/github/evansemet/538-Riddler-Solutions/blob/main/2022_04_01_Can_You_Reach_The_Target_Number.ipynb\" target=\"_parent\"><img src=\"https://colab.research.google.com/assets/colab-badge.svg\" alt=\"Open In Colab\"/></a>"
      ]
    },
    {
      "cell_type": "markdown",
      "source": [
        "#Joker Express\n",
        "This week’s Express is an oldie but a goodie:\n",
        "\n",
        "Multiplying polynomials can be challenging work. But every once in a while, there’s an expansion that is particularly elegant. One of my favorites is the following expression:\n",
        "\n",
        "(x−a)(x−b)(x−c)…(x−z)\n",
        "\n",
        "The ellipsis indicates that every letter is subtracted at some point. If you multiply all these binomials together, can you write the expansion in simplest form?\n"
      ],
      "metadata": {
        "id": "_sRSLm3Mr7h_"
      }
    },
    {
      "cell_type": "code",
      "execution_count": 3,
      "metadata": {
        "colab": {
          "base_uri": "https://localhost:8080/",
          "height": 37
        },
        "id": "hlVomX6nrxFC",
        "outputId": "c54a1bea-2024-4da8-c31e-b4e101641396"
      },
      "outputs": [
        {
          "output_type": "execute_result",
          "data": {
            "text/plain": [
              "0"
            ],
            "image/png": "[encoded data removed]",
            "text/latex": "$\\displaystyle 0$"
          },
          "metadata": {},
          "execution_count": 3
        }
      ],
      "source": [
        "from sympy import *\n",
        "\n",
        "x,a,b,c,d,e,f,g,h,i,j,k,l,m,n,o,p,q,r,s,t,u,v,w,y,z = symbols('x a b c d e f g h i j k l m n o p q r s t u v w y z')\n",
        "init_printing(use_unicode=True)\n",
        "\n",
        "simplify((x-a)*(x-b)*(x-c)*(x-d)*(x-e)*(x-f)*(x-g)*(x-h)*(x-i)*(x-j)*(x-k)*(x-l)*(x-m)*(x-n)*(x-o)*(x-p)*(x-q)*(x-r)*(x-s)*(x-t)*(x-u)*(x-v)*(x-w)*(x-x)*(x-y)*(x-z))"
      ]
    },
    {
      "cell_type": "markdown",
      "source": [
        "#Joker Classic\n",
        "To play the game of “Zactoll” (named for yours truly, of course), you start with the number 1 and then try to reach a target number through a series of steps. For each step, you can always choose to double the number you currently have. However, if the number happens to be one more than an odd multiple of 3, you can choose to “reduce” — that is, subtract 1 and then divide by 3.\n",
        "\n",
        "For example, to reach a target number of 5, you could double (1 → 2), double (2 → 4), double (4 → 8), double (8 → 16) and reduce (16 → 5). And to get a target number of 6, you could double (1 → 2), double (2 → 4), double (4 → 8), double (8 → 16), reduce (16 → 5), double (5 → 10), reduce (10 → 3) and double (3 → 6).\n",
        "\n",
        "What is the smallest target whole number you cannot reach in the game of Zactoll?"
      ],
      "metadata": {
        "id": "HJrXj1JuuTtq"
      }
    },
    {
      "cell_type": "code",
      "source": [
        "dp = [0] * 100000\n",
        "\n",
        "def check(num, target, rec):\n",
        "  if rec == 200 or num >= 10000:\n",
        "    return False\n",
        "  dp[num] = 1\n",
        "  if dp[target] == 1 or num == target:\n",
        "    return True\n",
        "  if num % 3 == 1 and ((num - 1) // 3) % 2 == 1:\n",
        "    return check((num - 1) // 3, target, rec + 1) or check(num * 2, target, rec + 1)\n",
        "  else:\n",
        "    return check(num * 2, target, rec + 1)\n",
        "\n",
        "for target in range(1, 100):\n",
        "  if not check(1, target, 0):\n",
        "    print(f\"Smallest target whole number is: {target}\")\n",
        "    break\n",
        "\n",
        "print(f\"April Fools! This is the collatz conjecture.\")"
      ],
      "metadata": {
        "colab": {
          "base_uri": "https://localhost:8080/"
        },
        "id": "6Nycbsniu7q7",
        "outputId": "4b9e8d62-4382-4f1b-ce6f-51d387b8df74"
      },
      "execution_count": 25,
      "outputs": [
        {
          "output_type": "stream",
          "name": "stdout",
          "text": [
            "April Fools! This is the collatz conjecture.\n"
          ]
        }
      ]
    }
  ]
}