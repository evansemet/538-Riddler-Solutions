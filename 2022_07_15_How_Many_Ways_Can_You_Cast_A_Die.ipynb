{
  "nbformat": 4,
  "nbformat_minor": 0,
  "metadata": {
    "colab": {
      "name": "2022_07_15_How_Many_Ways_Can_You_Cast_A_Die.ipynb",
      "provenance": [],
      "authorship_tag": "ABX9TyPD9MXo73QX/GzyHDZiJ+GM",
      "include_colab_link": true
    },
    "kernelspec": {
      "name": "python3",
      "display_name": "Python 3"
    },
    "language_info": {
      "name": "python"
    }
  },
  "cells": [
    {
      "cell_type": "markdown",
      "metadata": {
        "id": "view-in-github",
        "colab_type": "text"
      },
      "source": [
        "<a href=\"https://colab.research.google.com/github/evansemet/538-Riddler-Solutions/blob/main/2022_07_15_How_Many_Ways_Can_You_Cast_A_Die.ipynb\" target=\"_parent\"><img src=\"https://colab.research.google.com/assets/colab-badge.svg\" alt=\"Open In Colab\"/></a>"
      ]
    },
    {
      "cell_type": "markdown",
      "source": [
        "#Riddler Express\n",
        "From Tim Curwick comes a sudoku-inspired puzzle:\n",
        "\n",
        "A five-by-five Latin square is a grid with five rows and five columns, where each row and column contains each number from 1 to 5 exactly once. It turns out that there are quite a few five-by-five Latin squares.\n",
        "\n",
        "If you pick one of these squares at random, what is the probability that no corner contains a 1?\n",
        "\n",
        "Extra credit: If you pick a five-by-five Latin square at random, what is the probability that two of the four corners have the same number?"
      ],
      "metadata": {
        "id": "KXFY5nPr4W_2"
      }
    },
    {
      "cell_type": "code",
      "execution_count": 22,
      "metadata": {
        "colab": {
          "base_uri": "https://localhost:8080/"
        },
        "id": "_D866-OC0l-F",
        "outputId": "21974964-2c83-4319-fac2-4bde4806e2c9"
      },
      "outputs": [
        {
          "output_type": "stream",
          "name": "stdout",
          "text": [
            "Probability that no corner contains a 1: 0.36\n",
            "Probability that two of the four corners have the same number: 0.7\n"
          ]
        }
      ],
      "source": [
        "def no_corner():\n",
        "  return (3/5) ** 2\n",
        "\n",
        "def extra_credit():\n",
        "  return 2/5 + (3/5) * (2/4)\n",
        "\n",
        "print(f\"Probability that no corner contains a 1: {no_corner()}\")\n",
        "print(f\"Probability that two of the four corners have the same number: {extra_credit()}\")"
      ]
    },
    {
      "cell_type": "markdown",
      "source": [
        "If we have the numbers 1-5 in a row, there is a 1/5 chance that the one is on the leftmost side of the list and a 1/5 chance that the one is on the rightmost side of the list. In other words, there is a 3/5 chance that the one is not all the way to the left or right (and thus placing it in a corner) because we are only concerned with the first and last row of the Latin square, we just simply square that 3/5 probability to get the probability that there isn't a one on any of the corners.\n",
        "\n",
        "For the extra credit, take the example where a one is on the top left corner and a 2 is on the top right corner (it doesn't matter what numbers you pick so long that they follow the distinct number criteria of a Latin square row). We already know that there is a 3/5 chance that a one is not on the corner of a row so there is a 2/5 chance that a one is in one of the bottom corners and thus two of the corners matching criteria is already met. The other 3/5 of the time when the one is not on a corner, there is a 2/4 chance that the two is on the edge since there are only four remaining spots (the one takes up one of the five) and two of them are corners. We then take add the probabilities of these two events to get the final answer."
      ],
      "metadata": {
        "id": "KBLGP3RNMZpa"
      }
    },
    {
      "cell_type": "markdown",
      "source": [
        "#Riddler Classic\n",
        "I have an unlabeled, six-sided die. I make a single mark on the middle of each face that is parallel to one pair of that face’s four edges.\n",
        "\n",
        "How many unique ways are there for me to mark the die? (Note: If two ways can be rotated so that they appear the same, then they are considered to be the same marking.)\n",
        "\n"
      ],
      "metadata": {
        "id": "09kl0qbXEdhk"
      }
    },
    {
      "cell_type": "code",
      "source": [
        "print(f\"Number of unique ways to mark the die: {int(2 ** 6 / 8)}\")"
      ],
      "metadata": {
        "id": "zv7VKnlAEhwx",
        "colab": {
          "base_uri": "https://localhost:8080/"
        },
        "outputId": "1dbe127a-4199-49c7-b712-7211c230e55c"
      },
      "execution_count": 21,
      "outputs": [
        {
          "output_type": "stream",
          "name": "stdout",
          "text": [
            "Number of unique ways to mark the die: 8\n"
          ]
        }
      ]
    },
    {
      "cell_type": "markdown",
      "source": [
        "There are only two different ways to mark each face, so if we don't count rotations as being equivalent, then we are able to make 2^6 different die. However, because every die can be rotated 8 different ways (take the die and rotate it to the right 90 degrees 4 times and then rotate it 90 degrees downwards and do the rotations to the right 4 times again - it is important to note that the original orientation with each rotation counts for a rotation) we need to divide that number by 8 to get the total number of ways. "
      ],
      "metadata": {
        "id": "AKLXq5sTJwZT"
      }
    }
  ]
}