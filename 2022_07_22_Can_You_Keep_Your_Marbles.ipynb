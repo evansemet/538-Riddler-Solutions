{
  "nbformat": 4,
  "nbformat_minor": 0,
  "metadata": {
    "colab": {
      "name": "2022_07_22_Can_You_Keep_Your_Marbles.ipynb",
      "provenance": [],
      "authorship_tag": "ABX9TyOBFypzL7OvW9AHxPWzIqq0",
      "include_colab_link": true
    },
    "kernelspec": {
      "name": "python3",
      "display_name": "Python 3"
    },
    "language_info": {
      "name": "python"
    }
  },
  "cells": [
    {
      "cell_type": "markdown",
      "metadata": {
        "id": "view-in-github",
        "colab_type": "text"
      },
      "source": [
        "<a href=\"https://colab.research.google.com/github/evansemet/538-Riddler-Solutions/blob/main/2022_07_22_Can_You_Keep_Your_Marbles.ipynb\" target=\"_parent\"><img src=\"https://colab.research.google.com/assets/colab-badge.svg\" alt=\"Open In Colab\"/></a>"
      ]
    },
    {
      "cell_type": "markdown",
      "source": [
        "#Riddler Express\n",
        "You and your team of cyclists are climbing a mountain with a constant gradient in the Tour de FiveThirtyEight. You make the climb single file, with one rider in front of the other. The first rider sets the tempo for the rest to follow — that is, until that first rider runs out of energy, or “cracks.” Upon cracking, a rider can no longer maintain the tempo and falls well behind any riders who still have some remaining energy.\n",
        "\n",
        "When you begin the climb, there are eight riders on your team, and you start at the very back. The seven riders in front of you have exactly enough energy to make it up the entire climb, as long as they are not the first rider. Setting the tempo is hard work, and riding first in line is twice as exhausting as being one of the other riders.\n",
        "\n",
        "At some point up the mountain, the first rider cracks. Then the next rider cracks, then the next. Eventually, the last rider in front of you cracks, leaving you to contend with the remaining portion of the mountain all on your own. What fraction of the mountain do you climb alone?"
      ],
      "metadata": {
        "id": "k_wrr8NcOB0m"
      }
    },
    {
      "cell_type": "code",
      "execution_count": 12,
      "metadata": {
        "colab": {
          "base_uri": "https://localhost:8080/"
        },
        "id": "visoFs77N4b5",
        "outputId": "1c8e5f78-09b5-4f03-f0bf-c525a28139e7"
      },
      "outputs": [
        {
          "output_type": "stream",
          "name": "stdout",
          "text": [
            "0.0078125\n",
            "1 / 128\n"
          ]
        }
      ],
      "source": [
        "# google collab is only python 3.7 so I can't use the walrus operator\n",
        "#print(percent := 1 - sum(1/(2**i) for i in range(1, 8)))\n",
        "\n",
        "percent = 1 - sum(1/(2**i) for i in range(1, 8))\n",
        "print(percent)\n",
        "print(percent.as_integer_ratio()[0],\"/\",percent.as_integer_ratio()[1])"
      ]
    },
    {
      "cell_type": "markdown",
      "source": [
        "#Riddler Classic\n",
        "From Alec Stein, inspired by conversations with Jesse Zymet and Adam Greenberg, comes a puzzle that is sure to make you lose your marbles:\n",
        "\n",
        "At the Riddler Marble Shop, there are four enormous bags of marbles for you to acquire. They are labeled “red,” “green,” “blue” and “assorted.” Being the purist that you are, you want to select two bags of marbles that are not assorted, and you’d settle for some combination of red, green or blue.\n",
        "\n",
        "However, noticing your interest in the bags, the shopkeeper alerts you. “Buyer beware,” she warns. “Some jerk switched around the labels on all four bags. Right now, every single bag is incorrectly labeled.” To give you a chance of properly identifying the bags you would like, she has kindly allowed you to take two — and only two — marbles out of any of the bags, one at a time.\n",
        "\n",
        "How can you guarantee that neither of the two bags you take is assorted?"
      ],
      "metadata": {
        "id": "LzaIXy3LRw69"
      }
    },
    {
      "cell_type": "markdown",
      "source": [
        "Because you know that all of the labels are incorrect, you should definitely take the bag that is labeled assorted since that's guaranteed to not be assorted so we should take that bag.\n",
        "\n",
        "Take two balls out of the red bag and see what they are. 1/3 of the time, the red bag will actually be assorted and there are 9 possible ways to take out 2 balls then:\n",
        "\n",
        "\n",
        "1.   red, red\n",
        "2.   red, blue\n",
        "3.   red, green\n",
        "4.   blue, red\n",
        "5.   blue, blue\n",
        "6.   blue, green\n",
        "7.   green, red\n",
        "8.   green, blue\n",
        "9.   green, green\n",
        "\n",
        "In the event that either of the balls are red, we know that the red bag is assorted since the label has to be a lie. In the event that the two balls are a different color, we also know that the bag is assorted.\n",
        "\n",
        "So if they two balls that we pull from the red bag are either blue, blue or green, green then we also take the red bag. We will only be wrong on 2/9 of the possible pulls which occurs when the red bag is assorted 1/3 of the time, hence we will be wrong 1/3 * 2/9 = 2/27 percent of the time which means we will be right 25/27 times.\n",
        "\n"
      ],
      "metadata": {
        "id": "1u6k2B5dUUR1"
      }
    }
  ]
}