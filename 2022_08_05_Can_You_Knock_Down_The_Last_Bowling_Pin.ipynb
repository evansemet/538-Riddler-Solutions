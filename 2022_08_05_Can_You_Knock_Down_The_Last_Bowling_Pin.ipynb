{
  "nbformat": 4,
  "nbformat_minor": 0,
  "metadata": {
    "colab": {
      "name": "2022_08_05_Can_You_Knock_Down_The_Last_Bowling_Pin.ipynb",
      "provenance": [],
      "authorship_tag": "ABX9TyOp8nPO8QWxWCP4z/xL7AFF",
      "include_colab_link": true
    },
    "kernelspec": {
      "name": "python3",
      "display_name": "Python 3"
    },
    "language_info": {
      "name": "python"
    }
  },
  "cells": [
    {
      "cell_type": "markdown",
      "metadata": {
        "id": "view-in-github",
        "colab_type": "text"
      },
      "source": [
        "<a href=\"https://colab.research.google.com/github/evansemet/538-Riddler-Solutions/blob/main/2022_08_05_Can_You_Knock_Down_The_Last_Bowling_Pin.ipynb\" target=\"_parent\"><img src=\"https://colab.research.google.com/assets/colab-badge.svg\" alt=\"Open In Colab\"/></a>"
      ]
    },
    {
      "cell_type": "markdown",
      "source": [
        "#Riddler Express\n",
        "From Michael Branicky comes a puzzle that was inspired by an email thread from James Propp:\n",
        "\n",
        "Suppose you roll a fair six-sided die on a ridged gnocchi board, such that two adjacent faces come up every time.\n",
        "\n",
        "On average, what is the sum of the numbers shown on those two faces?"
      ],
      "metadata": {
        "id": "XKVAZqOG-wir"
      }
    },
    {
      "cell_type": "code",
      "source": [
        "six = 6 * 4 + 2 + 3 + 4 + 5\n",
        "five = 5 * 3 + 1 + 3 + 4\n",
        "four = 4 * 2 + 1 + 2\n",
        "three = 3 * 2 + 1 + 2\n",
        "two = 2 + 1\n",
        "EV = (six + five + four + three + two) / 12\n",
        "EV"
      ],
      "metadata": {
        "colab": {
          "base_uri": "https://localhost:8080/"
        },
        "id": "onYVDOuw98JC",
        "outputId": "98f7fbf5-e58b-49f3-b1ab-e5a4c1eb63bf"
      },
      "execution_count": 10,
      "outputs": [
        {
          "output_type": "execute_result",
          "data": {
            "text/plain": [
              "7.0"
            ]
          },
          "metadata": {},
          "execution_count": 10
        }
      ]
    },
    {
      "cell_type": "markdown",
      "source": [
        "#Riddler Classic\n",
        "Magritte the bowler is back! This time, he is competing head-to-head against fellow bowler Fosse. However, rather than knocking down 10 pins arranged in a triangular formation, they are trying to knock down N2 pins (where N is some very, very large number) arranged in a rhombus.\n",
        "\n",
        "When Magritte rolls, he always knocks down the topmost pin. Then, if any pin gets knocked down, it has a 50 percent chance of knocking down either of the two pins directly behind it, independently of each other. (If there is only one pin directly behind it, then it too has a 50 percent chance of being knocked over.)\n",
        "\n",
        "Fosse is a stronger bowler than Magritte. Like Magritte, she always knocks down the topmost pin. But each pin that’s knocked down then has a 70 percent chance (rather than Magritte’s 50 percent) of knocking down any of the pins directly behind it.\n",
        "\n",
        "What are Magritte’s and Fosse’s respective probabilities of knocking down the bottommost pin in the rhombus formation?"
      ],
      "metadata": {
        "id": "M7jmvIqy84B8"
      }
    },
    {
      "cell_type": "code",
      "execution_count": 2,
      "metadata": {
        "id": "G1z_9sCCsxm4"
      },
      "outputs": [],
      "source": [
        "import numpy as np\n",
        "from matplotlib import pyplot as plt\n",
        "import numba"
      ]
    },
    {
      "cell_type": "code",
      "source": [
        "@numba.jit()\n",
        "def prob(N: int, P: float) -> float:\n",
        "  grid = np.zeros((N, N))\n",
        "  grid[0][N//2] = 1\n",
        "\n",
        "  for row in range(1, N//2 + 1):\n",
        "    for col in range(N):\n",
        "      if col == 0:\n",
        "        grid[row][col] = grid[row - 1][col + 1] * P\n",
        "      elif col == N - 1:\n",
        "        grid[row][col] = grid[row - 1][col - 1] * P\n",
        "      else:\n",
        "        C = grid[row - 1][col - 1] * grid[row - 1][col + 1]\n",
        "        A = grid[row - 1][col - 1] - C\n",
        "        B = grid[row - 1][col + 1] - C\n",
        "        grid[row][col] = (A + B + C) * P\n",
        "\n",
        "  X = 1\n",
        "  for row in range(N//2 + 1, N):\n",
        "    for col in range(X, N - X):\n",
        "      C = grid[row - 1][col - 1] * grid[row - 1][col + 1]\n",
        "      A = grid[row - 1][col - 1] - C\n",
        "      B = grid[row - 1][col + 1] - C\n",
        "      grid[row][col] = (A + B + C) * P\n",
        "    X += 1\n",
        "\n",
        "  return sum(grid[N - 1])"
      ],
      "metadata": {
        "id": "vQ0loRN4szoD"
      },
      "execution_count": 3,
      "outputs": []
    },
    {
      "cell_type": "code",
      "source": [
        "def margritte(N: int) -> float:\n",
        "  return prob(N, 0.5)\n",
        "\n",
        "def fosse(N: int) -> float:\n",
        "  return prob(N, 0.7)"
      ],
      "metadata": {
        "id": "TpjC55KF1xn2"
      },
      "execution_count": 4,
      "outputs": []
    },
    {
      "cell_type": "code",
      "source": [
        "print(margritte(10000))\n",
        "print(fosse(10000))"
      ],
      "metadata": {
        "colab": {
          "base_uri": "https://localhost:8080/"
        },
        "id": "nmCYzQQM4Ln7",
        "outputId": "7d8d5d51-979f-497c-e63a-8b9fb262a46a"
      },
      "execution_count": 5,
      "outputs": [
        {
          "output_type": "stream",
          "name": "stdout",
          "text": [
            "0.00013643552839025531\n",
            "0.5714285714285713\n"
          ]
        }
      ]
    },
    {
      "cell_type": "code",
      "source": [
        "plt.rcParams[\"figure.figsize\"] = [10, 5]\n",
        "plt.rcParams[\"figure.autolayout\"] = True\n",
        "\n",
        "n = [x for x in range(1, 101)]\n",
        "m = [margritte(x) for x in range(1, 101)]\n",
        "f = [fosse(x) for x in range(1, 101)]\n",
        "plt.plot(n[0], m[0], 'o', color='blue', label='Margritte')\n",
        "plt.plot(n[0], f[0], 'o', color='red', label='Fosse')\n",
        "for pos in range(1, len(n)):\n",
        "  plt.plot(n[pos], m[pos], 'o', color='blue')\n",
        "  plt.plot(n[pos], f[pos], 'o', color='red')\n",
        "\n",
        "plt.legend(loc=\"upper right\")\n",
        "plt.show()"
      ],
      "metadata": {
        "colab": {
          "base_uri": "https://localhost:8080/",
          "height": 369
        },
        "id": "2eESMGw31zhO",
        "outputId": "71910793-99d5-470e-e1fa-6d1c71fe9d7f"
      },
      "execution_count": 9,
      "outputs": [
        {
          "output_type": "display_data",
          "data": {
            "text/plain": [
              "<Figure size 720x360 with 1 Axes>"
            ],
            "image/png": "[encoded data removed]"
          },
          "metadata": {
            "needs_background": "light"
          }
        }
      ]
    },
    {
      "cell_type": "markdown",
      "source": [
        "For very large values of N, the odds that Margritte knocks down the bottommost pin approaches 0 and the odds that Fosse knocks down the bottommost pin is about 57%."
      ],
      "metadata": {
        "id": "5zbX1o7r8nbK"
      }
    }
  ]
}