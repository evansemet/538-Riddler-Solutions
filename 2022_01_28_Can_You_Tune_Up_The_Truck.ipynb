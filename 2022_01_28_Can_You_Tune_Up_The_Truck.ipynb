{
  "nbformat": 4,
  "nbformat_minor": 0,
  "metadata": {
    "colab": {
      "name": "2022_01_28_Can_You_Tune_Up_The_Truck.ipynb",
      "provenance": [],
      "authorship_tag": "ABX9TyNS8aIXXy7O/dl39W1tFQZ3",
      "include_colab_link": true
    },
    "kernelspec": {
      "name": "python3",
      "display_name": "Python 3"
    },
    "language_info": {
      "name": "python"
    }
  },
  "cells": [
    {
      "cell_type": "markdown",
      "metadata": {
        "id": "view-in-github",
        "colab_type": "text"
      },
      "source": [
        "<a href=\"https://colab.research.google.com/github/evansemet/538-Riddler-Solutions/blob/main/2022_01_28_Can_You_Tune_Up_The_Truck.ipynb\" target=\"_parent\"><img src=\"https://colab.research.google.com/assets/colab-badge.svg\" alt=\"Open In Colab\"/></a>"
      ]
    },
    {
      "cell_type": "markdown",
      "source": [
        "#Riddler Express\n",
        "This week, get ready to play a game of squares! You start with five shaded squares on an infinitely large grid, in the following formation:\n",
        "\n",
        "Five squares arranged in the shape of a plus sign.\n",
        "This is generation 1. To go from one generation to the next, you consider every square’s eight neighbors (up, down, left, right and the four diagonal directions). If at least three of those squares are shaded, in the previous iteration, that square will be shaded in the next generation.\n",
        "\n",
        "That said, here are the first four generations:\n",
        "\n",
        "Four successive generations, starting with the five squares arranged as a plus sign. The second generation is a three-by-three square. In each generation, new squares are added such that any square that touched at least three filled squares is now also filled.\n",
        "How many squares will be shaded in generation 10?"
      ],
      "metadata": {
        "id": "2R9agFxmE7gd"
      }
    },
    {
      "cell_type": "code",
      "source": [
        "import numpy as np\n",
        "\n",
        "grid = np.zeros((15, 15))\n",
        "grid[8,8]=1; grid[8,9]=1; grid[7,8]=1; grid[8,7]=1; grid[9,8]=1\n",
        "\n",
        "def num_neigh(r, c, grid):\n",
        "  neighs = []\n",
        "  if r+1<15: neighs.append((r+1,c))\n",
        "  if r-1>=0: neighs.append((r-1,c))\n",
        "  if c+1<15: neighs.append((r,c+1))\n",
        "  if c-1>=0: neighs.append((r,c-1))\n",
        "  if r+1<15 and c+1<15: neighs.append((r+1,c+1))\n",
        "  if r-1>=0 and c+1<15: neighs.append((r-1,c+1))\n",
        "  if r+1<15 and c-1>=0: neighs.append((r+1,c-1))\n",
        "  if r-1>=0 and c-1>=0: neighs.append((r-1,c-1))\n",
        "  \n",
        "  tot = 0\n",
        "  for pos, (r,c) in enumerate(neighs):\n",
        "    if grid[r,c] == 1:\n",
        "      tot += 1\n",
        "    if tot == 3:\n",
        "      break\n",
        "  return tot == 3\n",
        "\n",
        "def layer(grid):\n",
        "  spots = []\n",
        "  for (r,c),val in np.ndenumerate(grid):\n",
        "    if num_neigh(r,c,grid):\n",
        "      spots.append((r,c))\n",
        "  for (r,c) in spots:\n",
        "    grid[r,c] = 1\n",
        "\n",
        "def size(grid):\n",
        "  tot = 0\n",
        "  for (r,c),val in np.ndenumerate(grid):\n",
        "    if val == 1:\n",
        "      tot += 1\n",
        "  return tot\n",
        "\n",
        "for i in range(1,10):\n",
        "  layer(grid)\n",
        "\n",
        "print(f\"{size(grid)} squares will be shaded in generation 10.\")"
      ],
      "metadata": {
        "colab": {
          "base_uri": "https://localhost:8080/"
        },
        "id": "8k9UeAPN9t-7",
        "outputId": "2e38300f-c9d7-4353-ba07-29915caa81ec"
      },
      "execution_count": 18,
      "outputs": [
        {
          "output_type": "stream",
          "name": "stdout",
          "text": [
            "89 squares will be shaded in generation 10.\n"
          ]
        }
      ]
    },
    {
      "cell_type": "markdown",
      "source": [
        "#Riddler Classic\n",
        "From ​​Travis Henry comes some vehicular trouble:\n",
        "\n",
        "You want to change the transmission fluid in your old van, which holds 12 quarts of fluid. At the moment, all 12 quarts are “old.” But changing all 12 quarts at once carries a risk of transmission failure.\n",
        "\n",
        "\n",
        "Instead, you decide to replace the fluid a little bit at a time. Each month, you remove one quart of old fluid, add one quart of fresh fluid and then drive the van to thoroughly mix up the fluid. (I have no idea if this is mechanically sound, but I’ll take Travis’s word on this!) Unfortunately, after precisely one year of use, what was once fresh transmission fluid officially turns “old.”\n",
        "\n",
        "You keep up this process for many, many years. One day, immediately after replacing a quart of fluid, you decide to check your transmission. What percent of the fluid is old?"
      ],
      "metadata": {
        "id": "VliVvu71FFVp"
      }
    },
    {
      "cell_type": "code",
      "execution_count": 6,
      "metadata": {
        "colab": {
          "base_uri": "https://localhost:8080/"
        },
        "id": "YFu5XGc61kIN",
        "outputId": "ff6bc4a5-d5b6-48af-95f8-7e0ba9af9ee3"
      },
      "outputs": [
        {
          "output_type": "stream",
          "name": "stdout",
          "text": [
            "0.3531666666666667\n"
          ]
        }
      ],
      "source": [
        "import random\n",
        "\n",
        "tank = [12] * 120000\n",
        "\n",
        "def change():\n",
        "  for i in range(len(tank)):\n",
        "    if tank[i] < 12:\n",
        "      tank[i] += 1\n",
        "    if i % 12 == 0:\n",
        "      tank[i] = 0\n",
        "  random.shuffle(tank)\n",
        "\n",
        "for time in range(1000):\n",
        "  change()\n",
        "\n",
        "old = 0\n",
        "for gas in tank:\n",
        "  if gas == 12:\n",
        "    old += 1\n",
        "\n",
        "print(old/len(tank))"
      ]
    }
  ]
}