{
  "nbformat": 4,
  "nbformat_minor": 0,
  "metadata": {
    "colab": {
      "name": "2022_06_14_Can_You_Catch_The _Grasshopper.ipynb",
      "provenance": [],
      "authorship_tag": "ABX9TyMWI2OIPjezXzDae4rXg5y4",
      "include_colab_link": true
    },
    "kernelspec": {
      "name": "python3",
      "display_name": "Python 3"
    },
    "language_info": {
      "name": "python"
    }
  },
  "cells": [
    {
      "cell_type": "markdown",
      "metadata": {
        "id": "view-in-github",
        "colab_type": "text"
      },
      "source": [
        "<a href=\"https://colab.research.google.com/github/evansemet/538-Riddler-Solutions/blob/main/2022_06_14_Can_You_Catch_The_Grasshopper.ipynb\" target=\"_parent\"><img src=\"https://colab.research.google.com/assets/colab-badge.svg\" alt=\"Open In Colab\"/></a>"
      ]
    },
    {
      "cell_type": "markdown",
      "source": [
        "# Riddler Express\n",
        "Based on a conversation from satyreyes comes a puzzle for which you might seek some medical attention:\n",
        "\n",
        "Every day on a certain ward at Riddler Hospital, one patient is admitted who needs one day of treatment, one who needs two days and so on, up to seven days. Each patient remains in their own room for the duration of their stay.\n",
        "\n",
        "You are a nurse who is assigned to a room at random on a particular day. What is the probability that the patient you see in that room will still be there tomorrow?"
      ],
      "metadata": {
        "id": "a1KFPHvS8710"
      }
    },
    {
      "cell_type": "code",
      "execution_count": 1,
      "metadata": {
        "colab": {
          "base_uri": "https://localhost:8080/"
        },
        "id": "E6L6jVqq8xBy",
        "outputId": "d3867837-fd3d-4916-bffe-8b636b6cbc7e"
      },
      "outputs": [
        {
          "output_type": "stream",
          "name": "stdout",
          "text": [
            "0.75\n"
          ]
        }
      ],
      "source": [
        "# This is pretty easy and doesn't really need code to solve but here it is anyway\n",
        "\n",
        "def rooms():\n",
        "  days = []\n",
        "  last = 1\n",
        "  for i in range(7):\n",
        "    for j in range(1, 8):\n",
        "      if j <= last:\n",
        "        days.append(j)\n",
        "      else:\n",
        "        break\n",
        "    last += 1\n",
        "  return days\n",
        "\n",
        "def odds():\n",
        "  days = rooms()\n",
        "  more_days = 0\n",
        "  for day in days:\n",
        "    if day > 1:\n",
        "      more_days += 1\n",
        "  return more_days / len(days)\n",
        "\n",
        "print(odds())"
      ]
    },
    {
      "cell_type": "markdown",
      "source": [
        "# Riddler Classic\n",
        "You are trying to catch a grasshopper on a balance beam that is 1 meter long. Every time you try to catch it, it jumps to a random point along the interval between 20 centimeters left of its current position and 20 centimeters right of its current position.\n",
        "\n",
        "If the grasshopper is within 20 centimeters of one of the edges, it will not jump off the edge. For example, if it is 10 centimeters from the left edge of the beam, then it will randomly jump to anywhere within 30 centimeters of that edge with equal probability (meaning it will be twice as likely to jump right as it is to jump left).\n",
        "\n",
        "After many, many failed attempts to catch the grasshopper, where is it most likely to be on the beam? Where is it least likely? And what is the ratio between these respective probabilities?"
      ],
      "metadata": {
        "id": "nTRw3P2c_TVr"
      }
    },
    {
      "cell_type": "code",
      "source": [
        "import numpy as np\n",
        "\n",
        "#number of discrete state points\n",
        "num_states = 101\n",
        "#jump range          \n",
        "jump_range = 20           \n",
        "\n",
        "#tansition probability matrix\n",
        "tp = []                   \n",
        "\n",
        "for i in range (0,num_states,1):\n",
        "\tif i + jump_range > num_states - 1:\n",
        "\t\tupper = num_states - 1\n",
        "\telse:\n",
        "\t\tupper = i + jump_range\n",
        "\n",
        "\tif i - jump_range < 0:\n",
        "\t\tlower = 0\n",
        "\telse:\n",
        "\t\tlower = i - jump_range\n",
        "\n",
        "\tp = 1/(upper - lower)\n",
        "\ttp.append([])\n",
        "\n",
        "\tfor j in range (0, num_states,1):\n",
        "\t\tif abs(j-i) > jump_range or j == i:\n",
        "\t\t\ttp[i].append(0)\n",
        "\n",
        "\t\telse:\n",
        "\t\t\ttp[i].append(p)\n",
        "\n",
        "\n",
        "# solving the steady state equation\n",
        "\n",
        "p_hat = tp.copy()\n",
        "\n",
        "for i in range(0,num_states,1):\n",
        "\tp_hat[i].pop()\n",
        "\n",
        "b = p_hat.pop()\n",
        "\n",
        "identity = np.identity(num_states-1)\n",
        "\n",
        "i_p = identity - p_hat\n",
        "i_p_inv = np.linalg.inv(i_p)\n",
        "pi_hat = np.dot(b,i_p_inv)\n",
        "\n",
        "c = 1\n",
        "\n",
        "for i in pi_hat:\n",
        "\tc += i\n",
        "\n",
        "# this is the vector of final solution probabilities\n",
        "pi = []       \n",
        "\n",
        "for i in pi_hat:\n",
        "\tpi.append(i/c)\n",
        "\n",
        "pi.append(1/c)\n",
        "\n",
        "# print out the distribution\n",
        "for odds in pi:\n",
        "  print(odds)\n",
        "  \n",
        "# print out ratio\n",
        "print(\"\\n\", \"Ratio: \", pi[len(pi) // 2] / pi[0])"
      ],
      "metadata": {
        "colab": {
          "base_uri": "https://localhost:8080/"
        },
        "id": "ATTkFn-6_YCc",
        "outputId": "0511cf44-4f3a-4bf6-d947-87818740e8c0"
      },
      "execution_count": 4,
      "outputs": [
        {
          "output_type": "stream",
          "name": "stdout",
          "text": [
            "0.005524861878453046\n",
            "0.005801104972375697\n",
            "0.006077348066298351\n",
            "0.006353591160221002\n",
            "0.006629834254143654\n",
            "0.0069060773480663085\n",
            "0.007182320441988962\n",
            "0.007458563535911612\n",
            "0.007734806629834265\n",
            "0.00801104972375692\n",
            "0.008287292817679568\n",
            "0.008563535911602221\n",
            "0.008839779005524871\n",
            "0.009116022099447526\n",
            "0.00939226519337018\n",
            "0.009668508287292831\n",
            "0.009944751381215486\n",
            "0.010220994475138134\n",
            "0.010497237569060788\n",
            "0.01077348066298344\n",
            "0.011049723756906093\n",
            "0.011049723756906087\n",
            "0.011049723756906093\n",
            "0.011049723756906094\n",
            "0.011049723756906093\n",
            "0.011049723756906093\n",
            "0.011049723756906094\n",
            "0.011049723756906093\n",
            "0.01104972375690609\n",
            "0.011049723756906093\n",
            "0.011049723756906093\n",
            "0.011049723756906093\n",
            "0.011049723756906098\n",
            "0.011049723756906098\n",
            "0.011049723756906093\n",
            "0.011049723756906093\n",
            "0.011049723756906098\n",
            "0.011049723756906094\n",
            "0.011049723756906094\n",
            "0.011049723756906093\n",
            "0.011049723756906093\n",
            "0.011049723756906093\n",
            "0.01104972375690609\n",
            "0.011049723756906094\n",
            "0.011049723756906094\n",
            "0.011049723756906093\n",
            "0.01104972375690609\n",
            "0.011049723756906094\n",
            "0.011049723756906098\n",
            "0.011049723756906093\n",
            "0.011049723756906093\n",
            "0.011049723756906093\n",
            "0.011049723756906093\n",
            "0.01104972375690609\n",
            "0.01104972375690609\n",
            "0.011049723756906094\n",
            "0.011049723756906093\n",
            "0.011049723756906093\n",
            "0.011049723756906093\n",
            "0.011049723756906094\n",
            "0.011049723756906093\n",
            "0.01104972375690609\n",
            "0.011049723756906093\n",
            "0.01104972375690609\n",
            "0.011049723756906093\n",
            "0.01104972375690609\n",
            "0.011049723756906093\n",
            "0.011049723756906093\n",
            "0.01104972375690609\n",
            "0.01104972375690609\n",
            "0.01104972375690609\n",
            "0.011049723756906093\n",
            "0.01104972375690609\n",
            "0.011049723756906093\n",
            "0.011049723756906093\n",
            "0.01104972375690609\n",
            "0.011049723756906087\n",
            "0.011049723756906087\n",
            "0.011049723756906087\n",
            "0.01104972375690609\n",
            "0.01104972375690609\n",
            "0.010773480662983437\n",
            "0.010497237569060782\n",
            "0.010220994475138129\n",
            "0.009944751381215481\n",
            "0.009668508287292826\n",
            "0.009392265193370174\n",
            "0.009116022099447521\n",
            "0.008839779005524871\n",
            "0.008563535911602216\n",
            "0.008287292817679566\n",
            "0.008011049723756913\n",
            "0.007734806629834262\n",
            "0.007458563535911608\n",
            "0.007182320441988957\n",
            "0.0069060773480663015\n",
            "0.006629834254143652\n",
            "0.0063535911602209975\n",
            "0.006077348066298348\n",
            "0.005801104972375695\n",
            "0.005524861878453029\n",
            "\n",
            " Ratio:  2.0\n"
          ]
        }
      ]
    },
    {
      "cell_type": "markdown",
      "source": [
        "It's most likely to be in the range of [20cm, 80cm] on the log and least likely to be on the edge of the log."
      ],
      "metadata": {
        "id": "asdqMx2wBeiR"
      }
    }
  ]
}