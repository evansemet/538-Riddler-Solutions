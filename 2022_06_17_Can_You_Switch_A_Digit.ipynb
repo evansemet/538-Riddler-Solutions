{
  "nbformat": 4,
  "nbformat_minor": 0,
  "metadata": {
    "colab": {
      "name": "2022_06_17_Can_You_Switch_A_Digit.ipynb",
      "provenance": [],
      "authorship_tag": "ABX9TyMsPNoSqsPDQjy+QJrL+k5K",
      "include_colab_link": true
    },
    "kernelspec": {
      "name": "python3",
      "display_name": "Python 3"
    },
    "language_info": {
      "name": "python"
    }
  },
  "cells": [
    {
      "cell_type": "markdown",
      "metadata": {
        "id": "view-in-github",
        "colab_type": "text"
      },
      "source": [
        "<a href=\"https://colab.research.google.com/github/evansemet/538-Riddler-Solutions/blob/main/2022_06_17_Can_You_Switch_A_Digit.ipynb\" target=\"_parent\"><img src=\"https://colab.research.google.com/assets/colab-badge.svg\" alt=\"Open In Colab\"/></a>"
      ]
    },
    {
      "cell_type": "markdown",
      "source": [
        "# Riddler Express\n",
        "From Ben Weiss and David Butler comes a what is presumably Eleven’s favorite puzzle to think about in her sensory deprivation tank:\n",
        "\n",
        "Anna loves multiples of 11, but her friend Jane is not quite so keen. One day, Anna is flipping idly through the yellow pages (remember those?), which is full of 10-digit numbers. She notices that every 10-digit number seems to have an interesting property: It is either a multiple of 11, or it can be made a multiple of 11 by changing a single digit. For example, there are several ways to make the 10-digit number 5551234567 into a multiple of 11, such as changing the first digit to 4.\n",
        "\n",
        "This gets the two friends wondering: Does every counting number have this property? Either prove it’s true for every number, or find the smallest counting number that is not a multiple of 11 and cannot be made a multiple of 11 by changing one digit."
      ],
      "metadata": {
        "id": "XEB5k4JRbLw8"
      }
    },
    {
      "cell_type": "code",
      "execution_count": 58,
      "metadata": {
        "colab": {
          "base_uri": "https://localhost:8080/"
        },
        "id": "7ZguqcilbCAo",
        "outputId": "5bb82de1-72b2-4af7-a389-487901ebc626"
      },
      "outputs": [
        {
          "output_type": "stream",
          "name": "stdout",
          "text": [
            "545\n"
          ]
        }
      ],
      "source": [
        "def change(dig):\n",
        "  digits = [\"0\", \"1\", \"2\", \"3\", \"4\", \"5\", \"6\", \"7\", \"8\", \"9\"]\n",
        "  digits.remove(dig)\n",
        "  return digits\n",
        "\n",
        "def check(num):\n",
        "  if num % 11 == 0:\n",
        "    return True\n",
        "  num = str(num)\n",
        "  for i in range(len(num)):\n",
        "    for j in range(9):\n",
        "      if int(num[:i] + change(num[i])[j] + num[i+1:]) % 11 == 0:\n",
        "        return True\n",
        "  return False\n",
        "\n",
        "num = 0\n",
        "while True:\n",
        "  if not check(num):\n",
        "    print(num)\n",
        "    break\n",
        "  num += 1"
      ]
    },
    {
      "cell_type": "markdown",
      "source": [
        "# Riddler Classic\n",
        "This week’s Classic may seem nonsensical at first. But surely there’s more to it …\n",
        "\n",
        "You have an urn with an equal number of red balls and white balls, but you have no information about what that number might be. You draw 19 balls at random, without replacement, and you get eight red balls and 11 white balls. What is your best guess for the original number of balls (red and white) in the urn?"
      ],
      "metadata": {
        "id": "7R5fk9MJbOrs"
      }
    },
    {
      "cell_type": "code",
      "source": [
        "from scipy.special import comb\n",
        "\n",
        "def prob(tot_balls):\n",
        "  return comb(tot_balls / 2, 11) * comb(tot_balls / 2, 8) / comb(tot_balls, 19)\n",
        "\n",
        "high = 0\n",
        "high_i = 20\n",
        "for i in range(22, 100, 2):\n",
        "  print(i, prob(i))\n",
        "  if prob(i) > high:\n",
        "    high = prob(i)\n",
        "    high_i = i\n",
        "  elif prob(i) < high:\n",
        "    break\n",
        "\n",
        "print(\"\\n\", high_i, high)"
      ],
      "metadata": {
        "colab": {
          "base_uri": "https://localhost:8080/"
        },
        "id": "PdxYUstObTJY",
        "outputId": "cdf268bf-9f2b-46ea-b92b-bbf0c01af81e"
      },
      "execution_count": 6,
      "outputs": [
        {
          "output_type": "stream",
          "name": "stdout",
          "text": [
            "22 0.10714285714285714\n",
            "24 0.13975155279503104\n",
            "26 0.15260869565217391\n",
            "28 0.1582608695652174\n",
            "30 0.16079460269865067\n",
            "32 0.16183198723219036\n",
            "34 0.16210443165514019\n",
            "36 0.1619721015068503\n",
            "\n",
            " 34 0.16210443165514019\n"
          ]
        }
      ]
    }
  ]
}