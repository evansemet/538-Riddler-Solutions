{
  "nbformat": 4,
  "nbformat_minor": 0,
  "metadata": {
    "colab": {
      "name": "Can_You_Make_Room_For_Goats.ipynb",
      "provenance": [],
      "authorship_tag": "ABX9TyPd2NYtq2VxyBKmKeONIVlL",
      "include_colab_link": true
    },
    "kernelspec": {
      "name": "python3",
      "display_name": "Python 3"
    },
    "language_info": {
      "name": "python"
    }
  },
  "cells": [
    {
      "cell_type": "markdown",
      "metadata": {
        "id": "view-in-github",
        "colab_type": "text"
      },
      "source": [
        "<a href=\"https://colab.research.google.com/github/evansemet/538-Riddler-Solutions/blob/main/Can_You_Make_Room_For_Goats.ipynb\" target=\"_parent\"><img src=\"https://colab.research.google.com/assets/colab-badge.svg\" alt=\"Open In Colab\"/></a>"
      ]
    },
    {
      "cell_type": "markdown",
      "source": [
        "#Riddler Express\n",
        "From Matt Enlow comes a puzzle he has seen making the rounds over the years, especially in convenience stores:\n",
        "\n",
        "I went to my local 7-Eleven and bought four items (not gas). The sum of the four prices was $7.11. A happy coincidence!\n",
        "\n",
        "But what was even stranger was that the product of the four prices was also exactly 7.11, without any rounding. (When multiplying the prices, I dropped the dollar signs so that the units worked out and then multiplied their decimal values. For example, if the prices of two items were $2.00 and $0.32, then their product would have been 0.64.)\n",
        "\n",
        "What were the four prices?"
      ],
      "metadata": {
        "id": "_Zs-NpsVqBc8"
      }
    },
    {
      "cell_type": "code",
      "source": [
        "def solve():\n",
        "  for a in range(1,712):\n",
        "    for b in range(a,712-a):\n",
        "      for c in range(b,712-a-b):\n",
        "        d = 711-a-b-c\n",
        "        if d <= 0:\n",
        "          break\n",
        "        if a+b+c+d==711 and a/100*b/100*c/100*d/100==7.11:\n",
        "          return [a,b,c,d]\n",
        "\n",
        "for price in solve():\n",
        "  print(\"${:.2f}\".format(price/100))"
      ],
      "metadata": {
        "colab": {
          "base_uri": "https://localhost:8080/"
        },
        "id": "73npXzSw1pKn",
        "outputId": "afe3d3a8-aaf4-41cc-bccf-be0d55e49c99"
      },
      "execution_count": 6,
      "outputs": [
        {
          "output_type": "stream",
          "name": "stdout",
          "text": [
            "$1.20\n",
            "$1.25\n",
            "$1.50\n",
            "$3.16\n"
          ]
        }
      ]
    },
    {
      "cell_type": "markdown",
      "source": [
        "#Riddler Classic\n",
        "From Quoc Tran comes a caprine conundrum:\n",
        "\n",
        "A goat tower has 10 floors, each of which can accommodate a single goat. Ten goats approach the tower, and each goat has its own (random) preference of floor. Multiple goats can prefer the same floor.\n",
        "\n",
        "One by one, each goat walks up the tower to its preferred room. If the floor is empty, the goat will make itself at home. But if the floor is already occupied by another goat, then it will keep going up until it finds the next empty floor, which it will occupy. But if it does not find any empty floors, the goat will be stuck on the roof of the tower.\n",
        "\n",
        "What is the probability that all 10 goats will have their own floor, meaning no goat is left stranded on the roof of the tower?"
      ],
      "metadata": {
        "id": "hiMu8FaJ3Oul"
      }
    },
    {
      "cell_type": "code",
      "source": [
        "# this code was writted in C++ so that it could actually finish\n",
        "# running in a reasonable amount of time so it can't run in Google Collab\n",
        "# but I ran it in CLion\n",
        "\n",
        "int main()\n",
        "{\n",
        "    long int no_roof=0;\n",
        "    for (int a=0; a<10; ++a) {\n",
        "        for (int b=0; b<10; ++b) {\n",
        "            for (int c=0; c<10; ++c) {\n",
        "                for (int d=0; d<10; ++d) {\n",
        "                    for (int e=0; e<10; ++e) {\n",
        "                        for (int f=0; f<10; ++f) {\n",
        "                            for (int g=0; g<10; ++g) {\n",
        "                                for (int h=0; h<10; ++h) {\n",
        "                                    for (int i=0; i<10; ++i) {\n",
        "                                        for (int j=0; j<10; ++j) {\n",
        "                                            int floors[10] = {0,0,0,0,0,0,0,0,0,0};\n",
        "                                            floors[a]+=1;\n",
        "                                            floors[b]+=1;\n",
        "                                            floors[c]+=1;\n",
        "                                            floors[d]+=1;\n",
        "                                            floors[e]+=1;\n",
        "                                            floors[f]+=1;\n",
        "                                            floors[g]+=1;\n",
        "                                            floors[h]+=1;\n",
        "                                            floors[i]+=1;\n",
        "                                            floors[j]+=1;\n",
        "                                            for (int z=0; z<9; ++z) {\n",
        "                                                if (floors[z] > 1) {\n",
        "                                                    floors[z+1] += floors[z] - 1;\n",
        "                                                }\n",
        "                                            }\n",
        "                                            if (floors[9]==1) {\n",
        "                                                no_roof+=1;\n",
        "                                            }\n",
        "                                        }\n",
        "                                    }\n",
        "                                }\n",
        "                            }\n",
        "                        }\n",
        "                    }\n",
        "                }\n",
        "            }\n",
        "        }\n",
        "    }\n",
        "    cout << no_roof << \"/10000000000\";\n",
        "}"
      ],
      "metadata": {
        "colab": {
          "base_uri": "https://localhost:8080/",
          "height": 133
        },
        "id": "KEpDWexGCc9K",
        "outputId": "abd1a7a0-0aa1-4bea-9ec3-64edd8637619"
      },
      "execution_count": 10,
      "outputs": [
        {
          "output_type": "error",
          "ename": "SyntaxError",
          "evalue": "ignored",
          "traceback": [
            "\u001b[0;36m  File \u001b[0;32m\"<ipython-input-10-275a947db2f2>\"\u001b[0;36m, line \u001b[0;32m5\u001b[0m\n\u001b[0;31m    int main()\u001b[0m\n\u001b[0m           ^\u001b[0m\n\u001b[0;31mSyntaxError\u001b[0m\u001b[0;31m:\u001b[0m invalid syntax\n"
          ]
        }
      ]
    },
    {
      "cell_type": "markdown",
      "source": [
        "This left an output of: 2357947691/10000000000\n",
        "\n",
        "This is equal to: 0.2357947691"
      ],
      "metadata": {
        "id": "jv69wCwYMEMm"
      }
    }
  ]
}