{
  "nbformat": 4,
  "nbformat_minor": 0,
  "metadata": {
    "colab": {
      "name": "2022_07_01_How_High_Should_You_Climb_Up_The_Tower.ipynb",
      "provenance": [],
      "authorship_tag": "ABX9TyN6xxMlcExjjrt22tgCiCJy",
      "include_colab_link": true
    },
    "kernelspec": {
      "name": "python3",
      "display_name": "Python 3"
    },
    "language_info": {
      "name": "python"
    }
  },
  "cells": [
    {
      "cell_type": "markdown",
      "metadata": {
        "id": "view-in-github",
        "colab_type": "text"
      },
      "source": [
        "<a href=\"https://colab.research.google.com/github/evansemet/538-Riddler-Solutions/blob/main/2022_07_01_How_High_Should_You_Climb_Up_The_Tower.ipynb\" target=\"_parent\"><img src=\"https://colab.research.google.com/assets/colab-badge.svg\" alt=\"Open In Colab\"/></a>"
      ]
    },
    {
      "cell_type": "markdown",
      "source": [
        "#Riddler Express\n",
        "From Andrew Love comes a puzzle about planning ahead and resolving to get things done:\n",
        "\n",
        "It’s the morning of Jan. 1, 2023, and you have a task you want to complete before the end of the year, on Dec. 31. The task is easily divisible into portions, so you always know exactly what fraction of the task is left.\n",
        "\n",
        "Your initial plan is to do exactly 1/365 of the task every day. But then you think to yourself, “If I do 2/365 today, I can do a little less every day from now on.” And so, on Jan. 1, you would complete 2/365 of the task. On Jan. 2, 363/365 of the task remains with 364 days left to complete it, so you would do another 2/364 × 363/365 of the task.\n",
        "\n",
        "If you continue in this fashion every day, dividing the remaining work by the remaining number of days in the year and doing twice that amount, when would you finish?"
      ],
      "metadata": {
        "id": "TTyLmJvsGfH-"
      }
    },
    {
      "cell_type": "code",
      "execution_count": 6,
      "metadata": {
        "colab": {
          "base_uri": "https://localhost:8080/"
        },
        "id": "GIhpo2luFovE",
        "outputId": "9a0d8739-76db-45f0-a0d9-da1b1af639e9"
      },
      "outputs": [
        {
          "output_type": "stream",
          "name": "stdout",
          "text": [
            "144 days after starting\n"
          ]
        }
      ],
      "source": [
        "days_left = 364\n",
        "amount_left = 363/365\n",
        "\n",
        "while amount_left > 0:\n",
        "  to_do = 2/days_left\n",
        "  amount_left -= to_do\n",
        "  days_left -= 1\n",
        "\n",
        "print(f\"{365 - days_left} days after starting\")"
      ]
    },
    {
      "cell_type": "markdown",
      "source": [
        "#Riddler Classic\n",
        "As the Royal Astronomer of Planet Xiddler, you wake up from a dream in which you measured the planet’s radius using a satellite. “How silly!” you think to yourself. “Satellites haven’t even been invented yet!” And so you and another astronomer set out to investigate the curvature of the planet.\n",
        "\n",
        "The two of you climb two of the tallest towers on the planet, which happen to be in neighboring cities. You both travel 100 meters up each tower on a clear day. Due to the curvature of the planet, you can barely make each other out.\n",
        "\n",
        "Next, your friend returns to the ground floor of their tower. How high up your tower must you be so that you can just barely make out your friend again?\n",
        "\n"
      ],
      "metadata": {
        "id": "wVgmJZ1lGoRp"
      }
    },
    {
      "cell_type": "markdown",
      "source": [
        "This is the final answer for the height written in terms of R (the radius of Planet Xiddler).\n",
        "\n",
        "$X_{H} = \\sqrt{\\frac{\\frac{20\\sqrt{250+5R}}{R}*\\frac{20R\\sqrt{250+5R}}{R+100}+\\frac{R^2}{R+100}}{\\frac{R}{20\\sqrt{250+5R}}-\\frac{20\\sqrt{250+5R}}{R}}}$\n",
        "\n",
        "$Y_{H}=X_{H}*\\frac{R}{20\\sqrt{250+5R}}$\n",
        "\n",
        "$HEIGHT=\\sqrt{(Y_{H}-\\frac{R^2}{R+100})^2+(X_{H}-\\frac{20R\\sqrt{250+5R}}{R+100})^2}$"
      ],
      "metadata": {
        "id": "yCuj-TpIoxCs"
      }
    }
  ]
}