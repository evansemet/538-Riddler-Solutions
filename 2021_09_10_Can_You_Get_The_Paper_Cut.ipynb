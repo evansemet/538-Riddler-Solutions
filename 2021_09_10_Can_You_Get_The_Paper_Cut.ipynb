{
  "nbformat": 4,
  "nbformat_minor": 0,
  "metadata": {
    "colab": {
      "name": "2021_09_10_Can_You_Get_The_Paper_Cut.ipynb",
      "provenance": [],
      "authorship_tag": "ABX9TyMGipAd1Zzm/iAkP9hWnsuU",
      "include_colab_link": true
    },
    "kernelspec": {
      "name": "python3",
      "display_name": "Python 3"
    },
    "language_info": {
      "name": "python"
    }
  },
  "cells": [
    {
      "cell_type": "markdown",
      "metadata": {
        "id": "view-in-github",
        "colab_type": "text"
      },
      "source": [
        "<a href=\"https://colab.research.google.com/github/evansemet/538-Riddler-Solutions/blob/main/2021_09_10_Can_You_Get_The_Paper_Cut.ipynb\" target=\"_parent\"><img src=\"https://colab.research.google.com/assets/colab-badge.svg\" alt=\"Open In Colab\"/></a>"
      ]
    },
    {
      "cell_type": "markdown",
      "source": [
        "#Riddler Express\n",
        "Earlier this year, Dakota Jones used a crystal key to gain access to a hidden temple, deep in the Riddlerian Jungle. According to an ancient text, the crystal had exactly six edges, five of which were 1 inch long. Also, the key was the largest such polyhedron (by volume) with these edge lengths.\n",
        "\n",
        "However, after consulting an expert, Jones realized she had the wrong translation. Instead of definitively having five edges that were 1 inch long, the crystal only needed to have four edges that were 1 inch long. In other words, five edges could have been 1 inch (or all six for that matter), but the crystal definitely had at least four edges that were 1 inch long.\n",
        "\n",
        "The translator confirmed that the key was indeed the largest such polyhedron (by volume) with these edge lengths.\n",
        "\n",
        "Once again, Jones needs your help. Now what is the volume of the crystal key?"
      ],
      "metadata": {
        "id": "M5MVKtai-rdC"
      }
    },
    {
      "cell_type": "code",
      "source": [
        "def vol():\n",
        "  return 3 ** 0.5 / 4 / 3\n",
        "\n",
        "print(vol())"
      ],
      "metadata": {
        "colab": {
          "base_uri": "https://localhost:8080/"
        },
        "id": "_FxIj1YcQJiO",
        "outputId": "c82f37fe-38e0-4d85-eb37-cebebbee8a3d"
      },
      "execution_count": null,
      "outputs": [
        {
          "output_type": "stream",
          "name": "stdout",
          "text": [
            "0.14433756729740643\n"
          ]
        }
      ]
    },
    {
      "cell_type": "markdown",
      "source": [
        "#Riddler Classic\n",
        "From Phil DeOrsey comes a matter that is anything but cut and dried:\n",
        "\n",
        "One morning, Phil was playing with his daughter, who loves to cut paper with her safety scissors. She especially likes cutting paper into “strips,” which are rectangular pieces of paper whose shorter sides are at most 1 inch long.\n",
        "\n",
        "Whenever Phil gives her a piece of standard printer paper (8.5 inches by 11 inches), she picks one of the four sides at random and then cuts a 1-inch wide strip parallel to that side. Next, she discards the strip and repeats the process, picking another side at random and cutting the strip. Eventually, she is left with nothing but strips.\n",
        "\n",
        "On average, how many cuts will she make before she is left only with strips?"
      ],
      "metadata": {
        "id": "zgeB8nl3-uCn"
      }
    },
    {
      "cell_type": "code",
      "execution_count": null,
      "metadata": {
        "colab": {
          "base_uri": "https://localhost:8080/"
        },
        "id": "8_jnQcVoN9Lk",
        "outputId": "f4d951bd-94a2-4642-e713-73917be04166"
      },
      "outputs": [
        {
          "output_type": "stream",
          "name": "stdout",
          "text": [
            "14.29058837890625\n"
          ]
        }
      ],
      "source": [
        "def cut(width, height, cuts):\n",
        "  if width <= 1 or height <= 1:\n",
        "    return cuts\n",
        "  elif width > 1 and height > 1:\n",
        "    return 0.5 * cut(width - 1, height, cuts + 1) + 0.5 * cut(width, height - 1, cuts + 1)\n",
        "  elif width > 1:\n",
        "    return cut(width - 1, height, cuts + 1)\n",
        "  else:\n",
        "    return cut(width, height - 1, cuts + 1)\n",
        "\n",
        "print(cut(8.5, 11, 0))"
      ]
    }
  ]
}