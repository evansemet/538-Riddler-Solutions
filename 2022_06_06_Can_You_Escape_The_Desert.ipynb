{
  "nbformat": 4,
  "nbformat_minor": 0,
  "metadata": {
    "colab": {
      "name": "2022_06_06_Can_You_Escape_The_Desert.ipynb",
      "provenance": [],
      "authorship_tag": "ABX9TyOU9cOdkUlwR2YPyuifG3gL",
      "include_colab_link": true
    },
    "kernelspec": {
      "name": "python3",
      "display_name": "Python 3"
    },
    "language_info": {
      "name": "python"
    }
  },
  "cells": [
    {
      "cell_type": "markdown",
      "metadata": {
        "id": "view-in-github",
        "colab_type": "text"
      },
      "source": [
        "<a href=\"https://colab.research.google.com/github/evansemet/538-Riddler-Solutions/blob/main/2022_06_06_Can_You_Escape_The_Desert.ipynb\" target=\"_parent\"><img src=\"https://colab.research.google.com/assets/colab-badge.svg\" alt=\"Open In Colab\"/></a>"
      ]
    },
    {
      "cell_type": "markdown",
      "source": [
        "# Riddler Express\n",
        "From Dean Ballard comes something quite “fun”:\n",
        "\n",
        "If you use each of the counting numbers 1, 2 and 3 at most once, and you can add or multiply them in any order you choose, you can make all the numbers from 1 to 9:\n",
        "\n",
        "1.   1\n",
        "2.   2\n",
        "3.   3\n",
        "4.   1+3\n",
        "5.   2+3\n",
        "6.   2x3\n",
        "7.   2x3+1\n",
        "8.   (3+1)x2\n",
        "9.   (2+1)x3\n",
        "\n",
        "\n",
        "However, there is no way to make the number 10. Therefore, 10 is the First Unmakeable Number, or “FUN,” for the first three counting numbers.\n",
        "\n",
        "What is the FUN for the first four counting numbers?"
      ],
      "metadata": {
        "id": "luRvE09IKa0D"
      }
    },
    {
      "cell_type": "code",
      "execution_count": 32,
      "metadata": {
        "id": "9KmbbBA6EAsG",
        "colab": {
          "base_uri": "https://localhost:8080/"
        },
        "outputId": "09f6def8-4c9a-4697-c526-6e48fddd4d48"
      },
      "outputs": [
        {
          "output_type": "stream",
          "name": "stdout",
          "text": [
            "1+2+3+4 = 10\n",
            "1+2*3+4 = 11\n",
            "1+2*4+3 = 12\n",
            "(1+2)*3+4 = 13\n",
            "1*2+3*4 = 14\n",
            "1+2+3*4 = 15\n",
            "(1+3+4)*2 = 16\n",
            "(1+4)*3+2 = 17\n",
            "1*(2+4)*3 = 18\n",
            "1+(2+4)*3 = 19\n",
            "1*(2+3)*4 = 20\n",
            "1+(2+3)*4 = 21\n",
            "The first FUN number is 22.\n"
          ]
        }
      ],
      "source": [
        "from itertools import permutations,combinations_with_replacement\n",
        "\n",
        "def fun(target):\n",
        "  numbers   = [\"1\",\"2\",\"3\",\"4\"]\n",
        "  operators = [\"+\", \"*\"]\n",
        "  groups    = ['X+X+X+X', 'X+X+(X+X)', 'X+(X+X)+X', '(X+X+X)+X', '(X+X)+X+X', 'X+(X+X+X)', '((X+X)+X)+X', 'X+(X+(X+X))', 'X+((X+X)+X)', '(X+X)+(X+X)', '(X+(X+X))+X']\n",
        "  seen      = set()\n",
        "  for values in permutations(numbers,len(numbers)):\n",
        "    for operCombo in combinations_with_replacement(operators,len(numbers)-1):\n",
        "      for oper in permutations(operCombo,len(numbers)-1):\n",
        "        formulaKey = \"\".join(oper+values)\n",
        "        if formulaKey in seen: continue # ignore variations on parentheses alone\n",
        "        for pattern in groups:\n",
        "          formula = \"\".join(o+p for o,p in zip([\"\"]+list(oper), pattern.split(\"+\")))\n",
        "          formula = \"\".join(v+p for v,p in zip([\"\"]+list(values),formula.split(\"X\")))\n",
        "          try:\n",
        "            if eval(formula) == target:\n",
        "              print(formula,\"=\",target)\n",
        "              seen.add(formulaKey)\n",
        "              return True\n",
        "          except: pass\n",
        "          \n",
        "for target in range(10, 50):\n",
        "  if not fun(target):\n",
        "    print(f\"The first FUN number is {target}.\")\n",
        "    break"
      ]
    },
    {
      "cell_type": "markdown",
      "source": [
        "# Riddler Classic\n",
        "From Jason Zimba comes a surprisingly sandy puzzle:\n",
        "\n",
        "In the Great Riddlerian Desert, there is a single oasis that is straight and narrow. There are N travelers who are trapped at the oasis, and one day, they agree that they will all leave. They independently pick a random location in the oasis from which to start and a random direction in which to travel. Once their supplies are packed, they all head out.\n",
        "\n",
        "What is the probability that none of their paths will intersect, in terms of N? (For the purposes of this puzzle, assume the oasis is a line segment, while the desert is an infinite Cartesian plane.)"
      ],
      "metadata": {
        "id": "t37HT-JJROGR"
      }
    },
    {
      "cell_type": "code",
      "source": [
        "import math\n",
        "\n",
        "def func(N):\n",
        "  return math.factorial(2 * N) / (2 ** N * math.factorial(N) ** 3)\n",
        "\n",
        "for n in range(1, 15):\n",
        "  print(n, func(n))"
      ],
      "metadata": {
        "colab": {
          "base_uri": "https://localhost:8080/"
        },
        "id": "mtrfk38ZKZFd",
        "outputId": "b7da99bf-7b59-4373-fc06-5ea04c59b089"
      },
      "execution_count": 20,
      "outputs": [
        {
          "output_type": "stream",
          "name": "stdout",
          "text": [
            "1 1.0\n",
            "2 0.75\n",
            "3 0.4166666666666667\n",
            "4 0.18229166666666666\n",
            "5 0.065625\n",
            "6 0.020052083333333335\n",
            "7 0.005319940476190476\n",
            "8 0.0012468610491071428\n",
            "9 0.0002616868868496473\n",
            "10 4.972050850143298e-05\n",
            "11 8.629179161405724e-06\n",
            "12 1.3782716716134143e-06\n",
            "13 2.0388634195464708e-07\n",
            "14 2.808638384069118e-08\n"
          ]
        }
      ]
    }
  ]
}